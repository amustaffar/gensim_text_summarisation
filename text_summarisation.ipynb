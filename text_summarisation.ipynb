{
 "cells": [
  {
   "cell_type": "code",
   "execution_count": 1,
   "metadata": {},
   "outputs": [
    {
     "data": {
      "text/plain": [
       "\"\\n\\n\\n\\n\\n\\n\\n\\n\\n\\n\\n\\n\\n\\n\\n\\n\\n\\n\\n\\n\\n\\n\\n\\n\\n\\n\\n\\n\\n\\n\\n\\n\\n\\n\\n\\n\\n\\n\\n\\n\\n\\nR0116 KIID Review May 2019.xlsm\\n\\n\\nISIN (Income):\\n\\nLower Risk Higher Risk\\n\\nTypically lower rewards Typically higher rewards\\n\\n1 2 3 4 5 6 7\\n\\n Key Investor Information\\nThis document provides you with key investor information about this Fund. It is not marketing material. The information is required by \\nlaw to help you understand the nature and the risks of investing in this Fund. You are advised to read it so you can make an informed \\ndecision about whether to invest.\\n\\nThe Cranmer Investment Fund\\n\\nThe investment objective of the Company is to provide long term capital and income growth from a global portfolio of equities, bonds and \\ncollective investment schemes. \\n\\nThere may be occasions when the investment manager chooses to hold a high level of cash or money market instruments.\\n\\nRecommendation: This Fund may not be appropriate for investors who plan to withdraw their money within 5 years.\\n\\nRisk and Reward Profile\\n\\nThe risk rating of the Fund is category 4 due to the volatility of the \\nFund price which sits in a range of between 5% and 10%. The risk rating \\nis calculated using historical data and a prescribed standard deviation \\nmethodology.\\n\\nThe following risks are material in addition to the risks captured by the indicator above:\\n\\n• The Fund may use derivatives to reduce costs, overall risk and/or generate additional capital or income.\\xa0This is known as Efficient Portfolio \\nManagement (EPM).\\xa0When used for EPM purposes, there should not be an increase in the overall risk level of the Fund.\\n\\n• Where derivative or structured product investments in the Fund may include a counterparty, there is a risk that the counterparty will not fulfil \\ntheir obligation.\\n\\n• Where investments in the Fund are in currencies other than your own, changes in exchange rates may affect the value of your investments.\\n\\n• Where investments are in the shares of companies (equities), the value of those equities may fluctuate, sometimes dramatically, in response \\nto the activities and results of individual companies or because of general market and economic conditions or other events.\\n\\n• The price of units/shares and any income from them may fall as well as rise and investors may not get back the full amount invested. Past \\nperformance is not a guide to future performance. There is no assurance that the investment objective of the fund will actually be achieved.\\n\\nAll the risks currently identified as being applicable to the Fund are set out in the 'Risk' section of the Prospectus.\\n\\nThis Fund is managed by Tutman LLP GB0033950378\\n\\nIncome arising from the Fund is distributed to the holders of income shares. Investors can buy and sell shares on demand when the scheme \\nprices on the 15th day of every month (or the business day prior if such day is not a business day) and the last business day of every month at \\n10.00am.\\n\\nObjectives and Investment Policy\\n\\n• This indicator is based on historical data and may not be a reliable indication of the future risk profile of the Fund.\\n\\n• The risk and reward category shown is not guaranteed to remain unchanged and may shift over time.\\n\\n• The lowest category does not mean ‘risk free’.\\n\\n• This indicator is not a measure of the risk that you may lose the amount you have invested.\\n\\nThe base currency of the Fund is pounds sterling.\\n\\n\\n\\nPerformance source: Morningstar Direct\\n\\nNone \\n\\n(d) Performance will be calculated as Total Return, including all charges \\nlevied against the Fund\\n\\nOne-off charges taken before or after you invest\\n\\nThe charges you pay are used to pay the costs of running the Fund, including the costs of marketing and distributing it. These charges reduce \\nthe potential growth of your investment.\\n\\nCharges for this Fund\\n\\nThe entry and exit charges shown are maximum figures. In some cases \\nyou might pay less - you can find this out from your financial adviser.  \\n\\nNone\\n\\n7.50%\\n\\nThis Key Investor Information is accurate as at 24th May 2019.\\n\\nThe depositary of the Fund is NatWest Trustee and Depositary Services Limited. The depositary has delegated the function of custodian to The \\nNorthern Trust Company.\\n\\n• Portfolio transaction costs, except in the case of an entry/exit charge \\npaid by the Fund when buying or selling units/shares in another \\ncollective investment scheme.\\n\\nFor more information about charges, please see section headed “Fees and Expenses” of  the Fund's Prospectus, which is available on request via \\nemail to thesisut@tutman.co.uk\\n\\nPlease email thesisut@tutman.co.uk if you require, or have any queries in relation to, the Fund price, Report and Accounts or Prospectus. All \\ndocumentation relating to the Fund is available in English and is free of charge. The most recent prices will appear daily on the Financial \\nExpress website at www.fundlistings.com and can also be obtained by telephone on 01483 783 900. The annual Report and Accounts will be \\nmade available annually on the 15th January.\\n\\n(b) The bar chart shows the calendar year returns for the last 10 full \\ncalendar years. If a column is blank, there is insufficient performance \\ndata to provide a complete calendar year of performance \\n\\nInformation on the current remuneration policy, including a description of how remuneration and benefits are calculated and the identity of the \\nremuneration committee members, is available on our website at www.tutman.co.uk and a copy can be obtained, free of charge, on request.\\n\\n(f) Investments may go down as well as up\\n\\n(a) The Fund launched in 2004\\n\\nThis Fund is authorised in the United Kingdom and regulated by the Financial Conduct Authority.\\n\\nUK tax legislation may have an impact on the personal tax position of investors.\\n\\nwww.tutman.co.uk\\n\\nTutman is a trading style of Thesis Unit Trust Management Limited and Tutman LLP. Thesis Unit Trust Management Limited is registered in England and Wales, number \\n03508646 and Tutman LLP is registered in England and Wales, number OC369415. Both entities are authorised and regulated by the Financial Conduct Authority and\\nhave their registered office at Exchange Building, St John’s Street, Chichester PO19 1UP.\\n\\nEntry Charge\\n\\nExit Charge\\n\\nPast Performance\\n\\nThe information in this document relates to a single class of The Cranmer Investment Fund, The Cranmer Investment Fund Income share class. \\nAt present, this is the only share class available.\\n\\nPractical Information\\n\\nCharges taken from the Fund under certain specific conditions\\n\\n(c) Past performance has been calculated in pounds sterling\\n\\nTutman LLP is authorised in the United Kingdom and regulated by the Financial Conduct Authority.\\n\\n1.86%\\n\\nThis is the maximum that might be taken out of your money before \\nit is invested or before the proceeds of your investments are paid \\nout\\n\\nTutman LLP may be held liable solely on the basis of any statement contained in this document that is misleading, inaccurate or inconsistent \\nwith the relevant part of the Prospectus for the Fund.\\n\\n(e) Past performance has limited value as a guide to future performance\\n\\nOngoing charges\\n\\nPerformance fee\\n\\nThe ongoing charge is based on last year's expenses for the year \\nending 15th January 2019. This figure may vary from year to year. It \\nexcludes:\\n\\n-5\\n.0\\n\\n%\\n\\n5\\n.5\\n\\n%\\n\\n1\\n0\\n\\n.1\\n%\\n\\n1\\n.0\\n\\n%\\n\\n2\\n.2\\n\\n%\\n\\n1\\n5\\n\\n.0\\n%\\n\\n5\\n.8\\n\\n%\\n\\n-6\\n.3\\n\\n%\\n\\n1\\n3\\n\\n.8\\n%\\n\\n1\\n2\\n\\n.6\\n%\\n\\n-30.00%\\n\\n-20.00%\\n\\n-10.00%\\n\\n0.00%\\n\\n10.00%\\n\\n20.00%\\n\\n30.00%\\n\\n2018201720162015201420132012201120102009\\n\\nFund No formal benchmark\\n\\n\\n\""
      ]
     },
     "execution_count": 1,
     "metadata": {},
     "output_type": "execute_result"
    }
   ],
   "source": [
    "from tika import parser\n",
    "from gensim.summarization import summarize\n",
    "\n",
    "# text parsing using tika\n",
    "\n",
    "parsedPDF = parser.from_file(\"The-Cranmer-Investment-Fund-KIID.pdf\")\n",
    "text = parsedPDF[\"content\"]\n",
    "text"
   ]
  },
  {
   "cell_type": "code",
   "execution_count": 2,
   "metadata": {},
   "outputs": [
    {
     "data": {
      "text/plain": [
       "\"R0116 KIID Review May 2019.xlsm ISIN (Income): Lower Risk Higher Risk Typically lower rewards Typically higher rewards 1 2 3 4 5 6 7  Key Investor Information This document provides you with key investor information about this Fund. It is not marketing material. The information is required by  law to help you understand the nature and the risks of investing in this Fund. You are advised to read it so you can make an informed  decision about whether to invest. The Cranmer Investment Fund The investment objective of the Company is to provide long term capital and income growth from a global portfolio of equities, bonds and  collective investment schemes.  There may be occasions when the investment manager chooses to hold a high level of cash or money market instruments. Recommendation: This Fund may not be appropriate for investors who plan to withdraw their money within 5 years. Risk and Reward Profile The risk rating of the Fund is category 4 due to the volatility of the  Fund price which sits in a range of between 5% and 10%. The risk rating  is calculated using historical data and a prescribed standard deviation  methodology. The following risks are material in addition to the risks captured by the indicator above: Management (EPM).\\xa0When used for EPM purposes, there should not be an increase in the overall risk level of the Fund. their obligation. to the activities and results of individual companies or because of general market and economic conditions or other events. performance is not a guide to future performance. There is no assurance that the investment objective of the fund will actually be achieved. All the risks currently identified as being applicable to the Fund are set out in the 'Risk' section of the Prospectus. This Fund is managed by Tutman LLP GB0033950378 Income arising from the Fund is distributed to the holders of income shares. Investors can buy and sell shares on demand when the scheme  prices on the 15th day of every month (or the business day prior if such day is not a business day) and the last business day of every month at  10.00am. Objectives and Investment Policy The base currency of the Fund is pounds sterling. Performance source: Morningstar Direct None  (d) Performance will be calculated as Total Return, including all charges  levied against the Fund One-off charges taken before or after you invest The charges you pay are used to pay the costs of running the Fund, including the costs of marketing and distributing it. These charges reduce  the potential growth of your investment. Charges for this Fund The entry and exit charges shown are maximum figures. In some cases  you might pay less - you can find this out from your financial adviser.   None 7.50% This Key Investor Information is accurate as at 24th May 2019. The depositary of the Fund is NatWest Trustee and Depositary Services Limited. The depositary has delegated the function of custodian to The  Northern Trust Company. paid by the Fund when buying or selling units/shares in another  collective investment scheme. For more information about charges, please see section headed “Fees and Expenses” of  the Fund's Prospectus, which is available on request via  email to thesisut@tutman.co.uk Please email thesisut@tutman.co.uk if you require, or have any queries in relation to, the Fund price, Report and Accounts or Prospectus. All  documentation relating to the Fund is available in English and is free of charge. The most recent prices will appear daily on the Financial  Express website at www.fundlistings.com and can also be obtained by telephone on 01483 783 900. The annual Report and Accounts will be  made available annually on the 15th January. (b) The bar chart shows the calendar year returns for the last 10 full  calendar years. If a column is blank, there is insufficient performance  data to provide a complete calendar year of performance  Information on the current remuneration policy, including a description of how remuneration and benefits are calculated and the identity of the  remuneration committee members, is available on our website at www.tutman.co.uk and a copy can be obtained, free of charge, on request. (f) Investments may go down as well as up (a) The Fund launched in 2004 This Fund is authorised in the United Kingdom and regulated by the Financial Conduct Authority. UK tax legislation may have an impact on the personal tax position of investors. www.tutman.co.uk Tutman is a trading style of Thesis Unit Trust Management Limited and Tutman LLP. Thesis Unit Trust Management Limited is registered in England and Wales, number  03508646 and Tutman LLP is registered in England and Wales, number OC369415. Both entities are authorised and regulated by the Financial Conduct Authority and have their registered office at Exchange Building, St John’s Street, Chichester PO19 1UP. Entry Charge Exit Charge Past Performance The information in this document relates to a single class of The Cranmer Investment Fund, The Cranmer Investment Fund Income share class.  At present, this is the only share class available. Practical Information Charges taken from the Fund under certain specific conditions (c) Past performance has been calculated in pounds sterling Tutman LLP is authorised in the United Kingdom and regulated by the Financial Conduct Authority. 1.86% This is the maximum that might be taken out of your money before  it is invested or before the proceeds of your investments are paid  out Tutman LLP may be held liable solely on the basis of any statement contained in this document that is misleading, inaccurate or inconsistent  with the relevant part of the Prospectus for the Fund. (e) Past performance has limited value as a guide to future performance Ongoing charges Performance fee The ongoing charge is based on last year's expenses for the year  ending 15th January 2019. This figure may vary from year to year. It  excludes: -5 .0 % 5 .5 % 1 0 .1 % 1 .0 % 2 .2 % 1 5 .0 % 5 .8 % -6 .3 % 1 3 .8 % 1 2 .6 % -30.00% -20.00% -10.00% 0.00% 10.00% 20.00% 30.00% 2018201720162015201420132012201120102009 Fund No formal benchmark\""
      ]
     },
     "execution_count": 2,
     "metadata": {},
     "output_type": "execute_result"
    }
   ],
   "source": [
    "# cleanup of the parsed text\n",
    "\n",
    "content = text.split(\"\\n\") # splits the strings by newlines\n",
    "content = filter(lambda l: l is not \"\", content) # remove empty lines\n",
    "content = filter(lambda l: not l.startswith(\"•\"), content) # remove any lines with bullet points\n",
    "content = \" \".join(content) # put all individual lines together and join them by space\n",
    "content"
   ]
  },
  {
   "cell_type": "code",
   "execution_count": 3,
   "metadata": {},
   "outputs": [
    {
     "data": {
      "text/plain": [
       "\"The Cranmer Investment Fund The investment objective of the Company is to provide long term capital and income growth from a global portfolio of equities, bonds and  collective investment schemes.\\nPerformance source: Morningstar Direct None  (d) Performance will be calculated as Total Return, including all charges  levied against the Fund One-off charges taken before or after you invest The charges you pay are used to pay the costs of running the Fund, including the costs of marketing and distributing it.\\npaid by the Fund when buying or selling units/shares in another  collective investment scheme.\\nFor more information about charges, please see section headed “Fees and Expenses” of  the Fund's Prospectus, which is available on request via  email to thesisut@tutman.co.uk Please email thesisut@tutman.co.uk if you require, or have any queries in relation to, the Fund price, Report and Accounts or Prospectus.\\nIf a column is blank, there is insufficient performance  data to provide a complete calendar year of performance  Information on the current remuneration policy, including a description of how remuneration and benefits are calculated and the identity of the  remuneration committee members, is available on our website at www.tutman.co.uk and a copy can be obtained, free of charge, on request.\\n(f) Investments may go down as well as up (a) The Fund launched in 2004 This Fund is authorised in the United Kingdom and regulated by the Financial Conduct Authority.\\nThesis Unit Trust Management Limited is registered in England and Wales, number  03508646 and Tutman LLP is registered in England and Wales, number OC369415.\\nEntry Charge Exit Charge Past Performance The information in this document relates to a single class of The Cranmer Investment Fund, The Cranmer Investment Fund Income share class.\\nPractical Information Charges taken from the Fund under certain specific conditions (c) Past performance has been calculated in pounds sterling Tutman LLP is authorised in the United Kingdom and regulated by the Financial Conduct Authority.\""
      ]
     },
     "execution_count": 3,
     "metadata": {},
     "output_type": "execute_result"
    }
   ],
   "source": [
    "# summarize it using default ratio=0.2\n",
    "\n",
    "summary = summarize(content, ratio=0.2)\n",
    "summary"
   ]
  },
  {
   "cell_type": "code",
   "execution_count": 4,
   "metadata": {},
   "outputs": [
    {
     "data": {
      "text/plain": [
       "\"paid by the Fund when buying or selling units/shares in another  collective investment scheme.\\nFor more information about charges, please see section headed “Fees and Expenses” of  the Fund's Prospectus, which is available on request via  email to thesisut@tutman.co.uk Please email thesisut@tutman.co.uk if you require, or have any queries in relation to, the Fund price, Report and Accounts or Prospectus.\\nEntry Charge Exit Charge Past Performance The information in this document relates to a single class of The Cranmer Investment Fund, The Cranmer Investment Fund Income share class.\\nPractical Information Charges taken from the Fund under certain specific conditions (c) Past performance has been calculated in pounds sterling Tutman LLP is authorised in the United Kingdom and regulated by the Financial Conduct Authority.\""
      ]
     },
     "execution_count": 4,
     "metadata": {},
     "output_type": "execute_result"
    }
   ],
   "source": [
    "# summarizing using low word count returns an unacceptable summary\n",
    "\n",
    "summary = summarize(content, word_count=100)\n",
    "summary"
   ]
  }
 ],
 "metadata": {
  "kernelspec": {
   "display_name": "Python 3",
   "language": "python",
   "name": "python3"
  },
  "language_info": {
   "codemirror_mode": {
    "name": "ipython",
    "version": 3
   },
   "file_extension": ".py",
   "mimetype": "text/x-python",
   "name": "python",
   "nbconvert_exporter": "python",
   "pygments_lexer": "ipython3",
   "version": "3.7.3"
  }
 },
 "nbformat": 4,
 "nbformat_minor": 2
}
