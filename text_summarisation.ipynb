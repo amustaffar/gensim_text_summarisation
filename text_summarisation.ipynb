{
 "cells": [
  {
   "cell_type": "code",
   "execution_count": 1,
   "metadata": {},
   "outputs": [
    {
     "data": {
      "text/plain": [
       "\"\\n\\n\\n\\n\\n\\n\\n\\n\\n\\n\\n\\n\\n\\n\\n\\n\\n\\n\\n\\n\\n\\n\\n\\n\\n\\n\\n\\n\\n\\n\\n\\n\\n\\n\\n\\n\\n\\n\\n\\n\\n\\nR0088 Annual KIID Review LTD.xlsm\\n\\n\\nLower Risk Higher Risk \\n\\nTypically lower rewards Typically higher rewards\\n\\n1\\n\\n1 2 3 4 5 6 7\\n\\nIncome arising from the Fund is distributed to the holders of income units and reinvested in the case of accumulation units. Investors can buy and sell units \\non demand when the scheme prices daily at 12 midday.\\n\\nThis document provides you with key investor information about this Fund. It is not marketing material. The information is \\nrequired by law to help you understand the nature and the risks of investing in this Fund. You are advised to read it so you can \\n\\nmake an informed decision about whether to invest.\\n\\nISIN: GB0000016617\\nThis Fund is managed by Thesis Unit Trust Management Limited. \\n\\nKES Diversified Trust A\\n\\n• This indicator is based on historical data and may not be a reliable indication of the future risk profile of the Fund.\\n\\n• The risk and reward category shown is not guaranteed to remain unchanged and may shift over time.\\n\\n• The lowest category does not mean ‘risk free’.\\n\\n• This indicator is not a measure of the risk that you may lose the amount you have invested.\\n\\nThe following risks are material in addition to the risks captured by the indicator above:\\n\\n• Where derivative or structured product investments in the Fund may include a counterparty, there is a risk that the counterparty will not fulfil their \\nobligation.\\n• Where investments in the Fund are in currencies other than your own, changes in exchange rates may affect the value of your investments.\\n• This Fund is allowed to use derivatives to achieve its objective. Derivatives can cause a Fund to become leveraged. Leverage occurs when exposure to an \\narea invested in is greater than its amount invested, resulting in the Fund being exposed to a potentially greater loss than the initial investment.\\n• The Fund may use derivatives to reduce costs, overall risk and/or generate additional capital or income. This is known as Efficient Portfolio Management \\n(EPM). When used for EPM purposes, there should not be an increase in the overall risk level of the Fund.\\n• More political, economic or structural challenges face emerging markets or less developed countries than developed countries which may increase volatility \\nand uncertainty.\\n• Where investments are in the shares of companies (equities), the value of those equities may fluctuate, sometimes dramatically, in response to the \\nactivities and results of individual companies or because of general market and economic conditions or other events.\\n• Investment in other funds may mean that the objectives and risk profiles of those underlying funds may not (always) be fully in line with those of the Fund.\\n• The price of units/shares and any income from them may fall as well as rise and investors may not get back the full amount invested. Past performance is \\nnot a guide to future performance. There is no assurance that the investment objective of the Fund will actually be achieved.\\n• Significant exposure to a particular industrial sector or geographical region puts the fund at risk of a localised event making a significant impact on the \\nvalue of the Fund.\\n• The price of gold/natural resources in which the Fund invest may be subject to sudden, unexpected and substantial fluctuations that may lead to significant \\ndeclines in the values of the shares concerned and hence the Net Asset Value of the Fund.\\n\\nAll the risks currently identified as being applicable to the Fund are set out in the 'Risk' section of the Prospectus.\\n\\nKey Investor Information\\n\\nObjectives and Investment Policy\\n\\nThe Fund will seek to do this by investing a large proportion in:\\n\\n• UK equities listed on the FTSE-All-Share Index;\\n\\nThe Fund will also invest in:\\n\\n• UK gilt-edged securities; \\n• global bonds;  \\n• overseas equities; \\n• units in collective investment schemes; and \\n• investment trusts.  \\n\\nApproved derivatives transactions may be used only for the purpose of efficient portfolio management (including hedging).\\n\\nThe Fund will decide how investments are weighted based on market conditions.\\n\\nIn certain circumstances pooled funds will be invested in, either through unit trust or ETF structures. Where this occurs, such vehicles will be subject to an in-\\nhouse due diligence process. This process includes a mix of quantitative and qualitative analysis with specific focus on performance track record and cost. \\nSuch positions are monitored on an on-going basis.\\n\\nThe base currency of the Fund is pounds sterling.\\n\\nRisk and Reward Profile\\n\\nThe risk rating of the Fund is category 5 due to the volatility of the Fund price \\nwhich sits in a range of between 10% and 15%. The risk rating is calculated \\nusing historical data and a prescribed standard deviation methodology.\\n\\n\\n\\nPerformance source: Morningstar Direct\\n\\nPast Performance\\n\\n(c) Past performance has been calculated in pounds sterling\\n\\nThesis Unit Trust Management Limited is authorised in the United Kingdom and regulated by the Financial Conduct Authority.\\nThis Key Investor Information is accurate as at 12th February 2018.\\n\\nThe trustee of the fund is National Westminster Bank Plc. The trustee has delegated the function of custodian to The Northern Trust Company.\\n\\n• Portfolio transaction costs, except in the case of an entry/exit charge paid by \\nthe Fund when buying or selling units/shares in another collective investment \\nscheme.\\n\\nFor more information about charges, please see please see section headed ‘Charges and Expenses of the Scheme’ of the Fund's Prospectus, which is available \\non request via email to thesisut@tutman.co.uk\\n\\nPlease email thesisut@tutman.co.uk if you require, or have any queries in relation to, the Fund price, Report and Accounts or Prospectus. All documentation \\nrelating to the Fund is available in English and is free of charge. The most recent prices will appear daily on the Financial Express website at \\nwww.fundlistings.com and can also be obtained by telephone on 01483 783900. The annual Report and Accounts will be made available annually on the 30th \\nApril.\\n\\n(b) The bar chart shows the calendar year returns for the last 10 full calendar \\nyears. If a column is blank, there is insufficient performance data to provide a \\ncomplete calendar year of performance \\n\\nCharges taken from the Fund under certain specific conditions\\n\\nThis Fund is authorised in the United Kingdom and regulated by the Financial Conduct Authority.\\n\\nOngoing charges\\n\\nOne-off charges taken before or after you invest\\n\\nThe charges you pay are used to pay the costs of running the Fund, including the costs of marketing and distributing it. These charges reduce the potential \\ngrowth of your investment.\\n\\nEntry Charge\\n\\nThe ongoing charge is based on last year's expenses for the year ending 31st \\nAugust 2017. This figure may vary from year to year. It excludes:\\n\\n0.72%\\n\\nThis is the maximum that might be taken out of your money \\nbefore it is invested or before the proceeds of your investments \\nare paid out\\n\\nNone\\n\\nCharges for this Fund\\n\\n6.00%\\n\\nExit Charge\\n\\nThe entry and exit charges shown are maximum figures. In some cases you \\nmight pay less - you can find this out from your financial adviser.  \\n\\n(e) Past performance has limited value as a guide to future performance\\n\\nThe information in this document relates to a single class of the KES Diversified Trust, the KES Diversified Trust A Income unit class. This document also \\nrepresents the Accumulation unit class.\\n\\nPractical Information\\n\\nUK tax legislation may have an impact on the personal tax position of investors. Thesis Unit Trust Management Limited may be held liable solely on the basis \\nof any statement contained in this document that is misleading, inaccurate or inconsistent with the relevant part of the Prospectus for the Fund.\\n\\n(d) Performance will be calculated as Total Return, including all charges levied \\nagainst the Fund\\n\\n(a) The Fund launched in 1996\\n\\nInformation on the current remuneration policy, including a description of how remuneration and benefits are calculated and the identity of the remuneration \\ncommittee members, is available on our website at www.tutman.co.uk and a copy can be obtained, free of charge, on request.\\n\\nNone Performance fee\\n\\n(f) Investments may go down as well as up\\n\\n9\\n.3\\n\\n%\\n\\n1\\n6\\n.8\\n\\n%\\n\\n3\\n.3\\n\\n%\\n\\n3\\n.7\\n\\n%\\n\\n1\\n5\\n.5\\n\\n%\\n\\n6\\n.6\\n\\n%\\n\\n-1\\n1\\n.0\\n\\n%\\n\\n1\\n2\\n.8\\n\\n%\\n\\n2\\n4\\n.7\\n\\n%\\n\\n-3\\n9\\n.4\\n\\n%\\n\\n-50.00%\\n\\n-40.00%\\n\\n-30.00%\\n\\n-20.00%\\n\\n-10.00%\\n\\n0.00%\\n\\n10.00%\\n\\n20.00%\\n\\n30.00%\\n\\n40.00%\\n\\n50.00%\\n\\n2017201620152014201320122011201020092008\\n\\nFund No formal benchmark\\n\\n\\n\""
      ]
     },
     "execution_count": 1,
     "metadata": {},
     "output_type": "execute_result"
    }
   ],
   "source": [
    "from tika import parser\n",
    "from gensim.summarization import summarize\n",
    "\n",
    "# text parsing using tika\n",
    "\n",
    "parsedPDF = parser.from_file(\"GB0000016948-2018-03-09.pdf\")\n",
    "text = parsedPDF[\"content\"]\n",
    "text"
   ]
  },
  {
   "cell_type": "code",
   "execution_count": 2,
   "metadata": {},
   "outputs": [
    {
     "data": {
      "text/plain": [
       "\"R0088 Annual KIID Review LTD.xlsm Lower Risk Higher Risk  Typically lower rewards Typically higher rewards 1 1 2 3 4 5 6 7 Income arising from the Fund is distributed to the holders of income units and reinvested in the case of accumulation units. Investors can buy and sell units  on demand when the scheme prices daily at 12 midday. This document provides you with key investor information about this Fund. It is not marketing material. The information is  required by law to help you understand the nature and the risks of investing in this Fund. You are advised to read it so you can  make an informed decision about whether to invest. ISIN: GB0000016617 This Fund is managed by Thesis Unit Trust Management Limited.  KES Diversified Trust A The following risks are material in addition to the risks captured by the indicator above: obligation. area invested in is greater than its amount invested, resulting in the Fund being exposed to a potentially greater loss than the initial investment. (EPM). When used for EPM purposes, there should not be an increase in the overall risk level of the Fund. and uncertainty. activities and results of individual companies or because of general market and economic conditions or other events. not a guide to future performance. There is no assurance that the investment objective of the Fund will actually be achieved. value of the Fund. declines in the values of the shares concerned and hence the Net Asset Value of the Fund. All the risks currently identified as being applicable to the Fund are set out in the 'Risk' section of the Prospectus. Key Investor Information Objectives and Investment Policy The Fund will seek to do this by investing a large proportion in: The Fund will also invest in: Approved derivatives transactions may be used only for the purpose of efficient portfolio management (including hedging). The Fund will decide how investments are weighted based on market conditions. In certain circumstances pooled funds will be invested in, either through unit trust or ETF structures. Where this occurs, such vehicles will be subject to an in- house due diligence process. This process includes a mix of quantitative and qualitative analysis with specific focus on performance track record and cost.  Such positions are monitored on an on-going basis. The base currency of the Fund is pounds sterling. Risk and Reward Profile The risk rating of the Fund is category 5 due to the volatility of the Fund price  which sits in a range of between 10% and 15%. The risk rating is calculated  using historical data and a prescribed standard deviation methodology. Performance source: Morningstar Direct Past Performance (c) Past performance has been calculated in pounds sterling Thesis Unit Trust Management Limited is authorised in the United Kingdom and regulated by the Financial Conduct Authority. This Key Investor Information is accurate as at 12th February 2018. The trustee of the fund is National Westminster Bank Plc. The trustee has delegated the function of custodian to The Northern Trust Company. the Fund when buying or selling units/shares in another collective investment  scheme. For more information about charges, please see please see section headed ‘Charges and Expenses of the Scheme’ of the Fund's Prospectus, which is available  on request via email to thesisut@tutman.co.uk Please email thesisut@tutman.co.uk if you require, or have any queries in relation to, the Fund price, Report and Accounts or Prospectus. All documentation  relating to the Fund is available in English and is free of charge. The most recent prices will appear daily on the Financial Express website at  www.fundlistings.com and can also be obtained by telephone on 01483 783900. The annual Report and Accounts will be made available annually on the 30th  April. (b) The bar chart shows the calendar year returns for the last 10 full calendar  years. If a column is blank, there is insufficient performance data to provide a  complete calendar year of performance  Charges taken from the Fund under certain specific conditions This Fund is authorised in the United Kingdom and regulated by the Financial Conduct Authority. Ongoing charges One-off charges taken before or after you invest The charges you pay are used to pay the costs of running the Fund, including the costs of marketing and distributing it. These charges reduce the potential  growth of your investment. Entry Charge The ongoing charge is based on last year's expenses for the year ending 31st  August 2017. This figure may vary from year to year. It excludes: 0.72% This is the maximum that might be taken out of your money  before it is invested or before the proceeds of your investments  are paid out None Charges for this Fund 6.00% Exit Charge The entry and exit charges shown are maximum figures. In some cases you  might pay less - you can find this out from your financial adviser.   (e) Past performance has limited value as a guide to future performance The information in this document relates to a single class of the KES Diversified Trust, the KES Diversified Trust A Income unit class. This document also  represents the Accumulation unit class. Practical Information UK tax legislation may have an impact on the personal tax position of investors. Thesis Unit Trust Management Limited may be held liable solely on the basis  of any statement contained in this document that is misleading, inaccurate or inconsistent with the relevant part of the Prospectus for the Fund. (d) Performance will be calculated as Total Return, including all charges levied  against the Fund (a) The Fund launched in 1996 Information on the current remuneration policy, including a description of how remuneration and benefits are calculated and the identity of the remuneration  committee members, is available on our website at www.tutman.co.uk and a copy can be obtained, free of charge, on request. None Performance fee (f) Investments may go down as well as up 9 .3 % 1 6 .8 % 3 .3 % 3 .7 % 1 5 .5 % 6 .6 % -1 1 .0 % 1 2 .8 % 2 4 .7 % -3 9 .4 % -50.00% -40.00% -30.00% -20.00% -10.00% 0.00% 10.00% 20.00% 30.00% 40.00% 50.00% 2017201620152014201320122011201020092008 Fund No formal benchmark\""
      ]
     },
     "execution_count": 2,
     "metadata": {},
     "output_type": "execute_result"
    }
   ],
   "source": [
    "# cleanup of the parsed text\n",
    "\n",
    "content = text.split(\"\\n\") # splits the strings by newlines\n",
    "content = filter(lambda l: l is not \"\", content) # remove empty lines\n",
    "content = filter(lambda l: not l.startswith(\"•\"), content) # remove any lines with bullet points\n",
    "content = \" \".join(content) # put all individual lines together and join them by space\n",
    "content"
   ]
  },
  {
   "cell_type": "code",
   "execution_count": 3,
   "metadata": {},
   "outputs": [
    {
     "data": {
      "text/plain": [
       "\"This document provides you with key investor information about this Fund.\\nKey Investor Information Objectives and Investment Policy The Fund will seek to do this by investing a large proportion in: The Fund will also invest in: Approved derivatives transactions may be used only for the purpose of efficient portfolio management (including hedging).\\nPerformance source: Morningstar Direct Past Performance (c) Past performance has been calculated in pounds sterling Thesis Unit Trust Management Limited is authorised in the United Kingdom and regulated by the Financial Conduct Authority.\\nthe Fund when buying or selling units/shares in another collective investment  scheme.\\nFor more information about charges, please see please see section headed ‘Charges and Expenses of the Scheme’ of the Fund's Prospectus, which is available  on request via email to thesisut@tutman.co.uk Please email thesisut@tutman.co.uk if you require, or have any queries in relation to, the Fund price, Report and Accounts or Prospectus.\\nIf a column is blank, there is insufficient performance data to provide a  complete calendar year of performance  Charges taken from the Fund under certain specific conditions This Fund is authorised in the United Kingdom and regulated by the Financial Conduct Authority.\\nOngoing charges One-off charges taken before or after you invest The charges you pay are used to pay the costs of running the Fund, including the costs of marketing and distributing it.\\n(e) Past performance has limited value as a guide to future performance The information in this document relates to a single class of the KES Diversified Trust, the KES Diversified Trust A Income unit class.\\nThesis Unit Trust Management Limited may be held liable solely on the basis  of any statement contained in this document that is misleading, inaccurate or inconsistent with the relevant part of the Prospectus for the Fund.\""
      ]
     },
     "execution_count": 3,
     "metadata": {},
     "output_type": "execute_result"
    }
   ],
   "source": [
    "# summarize it using default ratio=0.2\n",
    "\n",
    "summary = summarize(content, ratio=0.2)\n",
    "summary"
   ]
  },
  {
   "cell_type": "code",
   "execution_count": 4,
   "metadata": {},
   "outputs": [
    {
     "data": {
      "text/plain": [
       "\"For more information about charges, please see please see section headed ‘Charges and Expenses of the Scheme’ of the Fund's Prospectus, which is available  on request via email to thesisut@tutman.co.uk Please email thesisut@tutman.co.uk if you require, or have any queries in relation to, the Fund price, Report and Accounts or Prospectus.\\nIf a column is blank, there is insufficient performance data to provide a  complete calendar year of performance  Charges taken from the Fund under certain specific conditions This Fund is authorised in the United Kingdom and regulated by the Financial Conduct Authority.\""
      ]
     },
     "execution_count": 4,
     "metadata": {},
     "output_type": "execute_result"
    }
   ],
   "source": [
    "# summarizing using low word count returns an unacceptable summary\n",
    "\n",
    "summary = summarize(content, word_count=100)\n",
    "summary"
   ]
  },
  {
   "cell_type": "code",
   "execution_count": null,
   "metadata": {},
   "outputs": [],
   "source": []
  }
 ],
 "metadata": {
  "kernelspec": {
   "display_name": "Python 3",
   "language": "python",
   "name": "python3"
  },
  "language_info": {
   "codemirror_mode": {
    "name": "ipython",
    "version": 3
   },
   "file_extension": ".py",
   "mimetype": "text/x-python",
   "name": "python",
   "nbconvert_exporter": "python",
   "pygments_lexer": "ipython3",
   "version": "3.7.3"
  }
 },
 "nbformat": 4,
 "nbformat_minor": 2
}
